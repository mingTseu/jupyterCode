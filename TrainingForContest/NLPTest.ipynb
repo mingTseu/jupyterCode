{
 "cells": [
  {
   "cell_type": "code",
   "execution_count": 3,
   "metadata": {},
   "outputs": [
    {
     "name": "stdout",
     "output_type": "stream",
     "text": [
      "showing info https://raw.githubusercontent.com/nltk/nltk_data/gh-pages/index.xml\n"
     ]
    },
    {
     "data": {
      "text/plain": [
       "True"
      ]
     },
     "execution_count": 3,
     "metadata": {},
     "output_type": "execute_result"
    }
   ],
   "source": [
    "import nltk\n"
   ]
  },
  {
   "cell_type": "code",
   "execution_count": 7,
   "metadata": {
    "scrolled": false
   },
   "outputs": [],
   "source": [
    "from aip import AipSpeech\n",
    " \n",
    "\n",
    "APP_ID = '17051165'\n",
    "API_KEY = 'Gjo8gSFkgGKkpXi0I9TQTthU'\n",
    "SECRET_KEY = 'NX0dTzW74n5Da9BuQyudWi8dLnzIXleB'\n",
    " \n",
    "client = AipSpeech(APP_ID, API_KEY, SECRET_KEY)\n",
    " \n",
    "result  = client.synthesis('从前有座山，山上有座庙', 'zh', 1, {\n",
    "    'vol': 5,'per':4\n",
    "})\n",
    " \n",
    "if not isinstance(result, dict):\n",
    "    with open('c:/DataSet_ML/auido.mp3', 'wb') as f:\n",
    "        f.write(result)"
   ]
  },
  {
   "cell_type": "code",
   "execution_count": 5,
   "metadata": {
    "scrolled": true
   },
   "outputs": [
    {
     "name": "stdout",
     "output_type": "stream",
     "text": [
      "待切分句: 苏州市位于江苏省的东南角。\n",
      "全切分:  苏州 苏州市 州市 位于 江苏 江苏省 的 东南 东南角  \n",
      "<class 'generator'>\n",
      "搜索引擎切分:  苏州 州市 苏州市 位于 江苏 江苏省 的 东南 东南角 。\n"
     ]
    }
   ],
   "source": [
    "import jieba\n",
    "\n",
    "sentence = \"苏州市位于江苏省的东南角。\"\n",
    "print(\"待切分句:\",sentence)\n",
    "seg_res = jieba.cut(sentence, cut_all=True)\n",
    "print(\"全切分: \", \" \".join(seg_res))\n",
    "\n",
    "seg_res = jieba.cut(sentence, cut_all=False)\n",
    "# seg_res=list(seg_res)\n",
    "print(type(seg_res))\n",
    "\n",
    "\n",
    "seg_res = jieba.cut_for_search(sentence)\n",
    "print(\"搜索引擎切分: \", \" \".join(seg_res))\n"
   ]
  },
  {
   "cell_type": "code",
   "execution_count": 5,
   "metadata": {},
   "outputs": [
    {
     "name": "stdout",
     "output_type": "stream",
     "text": [
      "李小福 是 创新 办 主任 ， 也 是 云 计算 方面 的 专家\n"
     ]
    }
   ],
   "source": [
    "# s = \"李小福是创新办主任，也是云计算方面的专家\"\n",
    "# seg_list = jieba.cut(s)\n",
    "# print(\" \".join(seg_list))"
   ]
  }
 ],
 "metadata": {
  "kernelspec": {
   "display_name": "Python 3",
   "language": "python",
   "name": "python3"
  },
  "language_info": {
   "codemirror_mode": {
    "name": "ipython",
    "version": 3
   },
   "file_extension": ".py",
   "mimetype": "text/x-python",
   "name": "python",
   "nbconvert_exporter": "python",
   "pygments_lexer": "ipython3",
   "version": "3.6.4"
  }
 },
 "nbformat": 4,
 "nbformat_minor": 2
}
